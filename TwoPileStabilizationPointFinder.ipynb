import numpy as np
import matplotlib.pyplot as plt
from mpl_toolkits.mplot3d import Axes3D
from scipy.ndimage import gaussian_filter

data = [
#Enter Data Here
]
x, y, z = zip(*data)
x = np.array(x)
y = np.array(y)
z = np.array(z)

# Sort the data by x and y
sort_indices = np.lexsort((y, x))
x = x[sort_indices]
y = y[sort_indices]
z = z[sort_indices]

# Reshape the data into a 2D grid
unique_x = np.unique(x)
unique_y = np.unique(y)
Z = np.zeros((len(unique_x), len(unique_y)))
for i, xi in enumerate(unique_x):
    for j, yi in enumerate(unique_y):
        mask = (x == xi) & (y == yi)
        if np.any(mask):
            Z[i, j] = z[mask][0]

# Apply Gaussian smoothing
sigma = 0.1  # Adjust this value to control smoothness
Z_smoothed = gaussian_filter(Z, sigma=sigma)

# Create meshgrid for plotting
X, Y = np.meshgrid(unique_x, unique_y)

# Calculate gradient for stabilization point
gradient_x, gradient_y = np.gradient(Z_smoothed)
gradient_magnitude = np.sqrt(gradient_x**2 + gradient_y**2)

# Define the logical window around the desired region (e.g., around 40, 40)
logical_window_mask = np.logical_and.reduce([
    X >= 20, X <= 60,
    Y >= 20, Y <= 60,
    np.abs(X - Y) <= (unique_x[-1] - unique_x[0]) / 2  # Adjust the diagonal window
])

# Mask the gradient magnitude to consider only the defined logical window
logical_window_gradient_magnitude = np.where(logical_window_mask, gradient_magnitude, np.inf)

# Find stabilization point within the logical window
threshold = 1  # Adjust this value as needed
stable_mask = logical_window_gradient_magnitude < threshold
if np.any(stable_mask):
    stable_indices = np.argwhere(stable_mask)
    stabilization_index = stable_indices[np.argmin(logical_window_gradient_magnitude[stable_mask])]
    stabilization_x = unique_x[stabilization_index[0]]
    stabilization_y = unique_y[stabilization_index[1]]
    stabilization_value = Z_smoothed[stabilization_index[0], stabilization_index[1]]
    print(f"Stabilization occurs at x = {stabilization_x}, y = {stabilization_y}, value: {stabilization_value:.2f}")
else:
    print("Stabilization point not found within the given data range.")
    stabilization_point = None

# Plot the data
fig = plt.figure(figsize=(12, 8))
ax = fig.add_subplot(111, projection='3d')

# Plot original data points
scatter = ax.scatter(x, y, z, c=z, cmap='viridis', s=10, alpha=0.3, label='Original Data')

# Highlight the diagonal logical window
highlight_x, highlight_y = np.where(logical_window_mask)
highlight_z = Z_smoothed[highlight_x, highlight_y]
highlight_x_vals = unique_x[highlight_x]
highlight_y_vals = unique_y[highlight_y]


# Plot the smoothed surface


# Plot stabilization point if found
if stabilization_point is not None:
    ax.scatter([stabilization_x], [stabilization_y], [stabilization_value],
               color='red', s=200, marker='*', label='Stabilization Point', zorder=10)

ax.set_xlabel('Pile 1 Length')
ax.set_ylabel('Pile 2 Length')
ax.set_zlabel('Win Percentage (%)')
ax.set_title('Player 1 Win Percentage and Stabilization Point vs Pile Lengths')

# Add color bar
plt.colorbar(scatter, label='Win Percentage (%)')

# Add legend
ax.legend()

plt.tight_layout()
plt.show()
