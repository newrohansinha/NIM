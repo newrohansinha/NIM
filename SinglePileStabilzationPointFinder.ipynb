import numpy as np
import matplotlib.pyplot as plt
from scipy.signal import find_peaks

data = [
# Enter Data Here
]

x, y = zip(*data)
x = np.array(x)
y = np.array(y)

# Define the smoothing window size for the moving average
smoothing_window_size = 10

# Calculate the moving average
def moving_average(data, window_size):
    return np.convolve(data, np.ones(window_size) / window_size, mode='valid')

moving_avg_p1 = moving_average(y, smoothing_window_size)
smoothed_x = x[:len(moving_avg_p1)]

# Calculate the win rates for Player 2
y_p2 = 100 - y
moving_avg_p2 = moving_average(y_p2, smoothing_window_size)

# Calculate the instantaneous rate of change of the moving average
def instantaneous_rate_of_change(data, dx):
    return np.gradient(data, dx)

instantaneous_roc_p1 = instantaneous_rate_of_change(moving_avg_p1, np.mean(np.diff(smoothed_x)))

# Parameters for stabilization
derivative_threshold = 0.06
# Determine the stabilization point
stabilization_point_index = None

for current_x in range(len(instantaneous_roc_p1)):
    dynamic_window_size = len(instantaneous_roc_p1) - current_x
    if dynamic_window_size < 1:
        break

    # Calculate the range of derivatives in the current window
    window_derivative = instantaneous_roc_p1[current_x:current_x + dynamic_window_size]
    if np.max(np.abs(window_derivative)) - np.min(np.abs(window_derivative)) < derivative_threshold:
        stabilization_point_index = current_x + smoothing_window_size // 2
        stabilization_x = smoothed_x[stabilization_point_index]
        stabilization_value = moving_avg_p1[stabilization_point_index]
        print(f"Stabilization occurs at x = {stabilization_x}, index = {stabilization_point_index}, value: {stabilization_value:.2f}")
        break

if stabilization_point_index is None:
    print("Stabilization point not found within the given data range.")

# Plot the data
plt.figure(figsize=(12, 6))

# Plot original data points for Player 1
plt.scatter(x, y, label='Player 1 Win Percentages', color='blue', alpha=0.6)

# Plot moving average for Player 1
plt.plot(smoothed_x, moving_avg_p1, color='orange', label='Player 1 Moving Average')

# Plot original data points for Player 2
plt.scatter(x, y_p2, label='Player 2 Win Percentages', color='red', alpha=0.6)

# Plot moving average for Player 2
plt.plot(smoothed_x, moving_avg_p2, color='green', label='Player 2 Moving Average')

# Plot vertical line at stabilization point
if stabilization_point_index is not None:
    plt.axvline(x=stabilization_x, color='purple', linestyle='--', label='Stabilization Point')

plt.xlabel('Number of Sticks')
plt.ylabel('Win Percentage (%)')
plt.title('Player 1 and Player 2 Win Percentage and Stabilization Point vs Number Of Sticks')
plt.legend(loc="upper right")

plt.tight_layout()
plt.show()
